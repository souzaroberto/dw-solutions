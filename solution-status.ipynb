{
  "nbformat": 4,
  "nbformat_minor": 0,
  "metadata": {
    "colab": {
      "name": "Untitled0.ipynb",
      "provenance": [],
      "collapsed_sections": []
    },
    "kernelspec": {
      "name": "python3",
      "display_name": "Python 3"
    }
  },
  "cells": [
    {
      "cell_type": "code",
      "execution_count": 1,
      "metadata": {},
      "outputs": [
        {
          "name": "stdout",
          "output_type": "stream",
          "text": "dantas.anna  djalde.gomes  joab.ferreira  \\\nbasic-bmi                   False          True          False   \nbasic-numbers-series        False          True          False   \nflag                        False         False          False   \nman-ping                    False          True          False   \ncurriculum-text             False          True          False   \ntext-simple                 False          True          False   \nfirst-web-page              False          True          False   \n\n                      hermano.araujo  macaiba.laura  leandro.batista  \\\nbasic-bmi                      False          False             True   \nbasic-numbers-series           False          False             True   \nflag                           False          False            False   \nman-ping                       False          False            False   \ncurriculum-text                False          False            False   \ntext-simple                    False          False            False   \nfirst-web-page                 False          False             True   \n\n                      pedro.romano  noronha.rafael  roberto.souza  \\\nbasic-bmi                     True           False          False   \nbasic-numbers-series         False           False          False   \nflag                         False           False          False   \nman-ping                     False           False           True   \ncurriculum-text               True           False           True   \ntext-simple                  False            True           True   \nfirst-web-page               False            True          False   \n\n                      robson.nascimento  \nbasic-bmi                          True  \nbasic-numbers-series               True  \nflag                              False  \nman-ping                          False  \ncurriculum-text                   False  \ntext-simple                       False  \nfirst-web-page                    False  \n"
        }
      ],
      "source": [
        "import os\n",
        "import json\n",
        "import pandas as pd\n",
        "\n",
        "students = (\n",
        "  'dantas.anna',\n",
        "  'djalde.gomes',\n",
        "  'joab.ferreira',\n",
        "  'hermano.araujo',\n",
        "  'macaiba.laura',\n",
        "  'leandro.batista',\n",
        "  'pedro.romano',\n",
        "  'noronha.rafael',\n",
        "  'roberto.souza',\n",
        "  'robson.nascimento'\n",
        ")\n",
        "categories = ('back-end', 'front-end')\n",
        "status = {}\n",
        "\n",
        "for student in students:\n",
        "  status[student] = {}\n",
        "  for category in categories:\n",
        "    subcategories = os.listdir(category)\n",
        "    for subcategory in subcategories:\n",
        "      path = f'{category}/{subcategory}'\n",
        "      problems = os.listdir(path)\n",
        "      for problem in problems:\n",
        "        path = f'{category}/{subcategory}/{problem}/{student}'\n",
        "        status[student][problem] = os.path.isdir(path) or os.path.isfile(f'{path}.php')\n",
        "\n",
        "# print(json.dumps(status, indent=4, sort_keys=True))\n",
        "df = pd.DataFrame(status)\n",
        "print(df)"
      ]
    },
    {
      "cell_type": "code",
      "execution_count": 2,
      "metadata": {},
      "outputs": [
        {
          "data": {
            "text/plain": "djalde.gomes         6\nroberto.souza        3\nleandro.batista      3\nrobson.nascimento    2\nnoronha.rafael       2\npedro.romano         2\nmacaiba.laura        0\nhermano.araujo       0\njoab.ferreira        0\ndantas.anna          0\ndtype: int64"
          },
          "execution_count": 2,
          "metadata": {},
          "output_type": "execute_result"
        }
      ],
      "source": [
        "df[df==True].count(axis=0).sort_values(ascending=False)"
      ]
    },
    {
      "cell_type": "code",
      "execution_count": 3,
      "metadata": {},
      "outputs": [
        {
          "data": {
            "text/plain": "basic-bmi               4\nfirst-web-page          3\ntext-simple             3\ncurriculum-text         3\nbasic-numbers-series    3\nman-ping                2\nflag                    0\ndtype: int64"
          },
          "execution_count": 3,
          "metadata": {},
          "output_type": "execute_result"
        }
      ],
      "source": [
        "df[df==True].count(axis=1).sort_values(ascending=False)"
      ]
    },
    {
      "cell_type": "code",
      "execution_count": 4,
      "metadata": {},
      "outputs": [
        {
          "name": "stdout",
          "output_type": "stream",
          "text": "18\n"
        }
      ],
      "source": [
        "print(df[df==True].count().sum())"
      ]
    }
  ]
}