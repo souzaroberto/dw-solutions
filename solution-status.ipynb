{
  "nbformat": 4,
  "nbformat_minor": 0,
  "metadata": {
    "colab": {
      "name": "Untitled0.ipynb",
      "provenance": [],
      "collapsed_sections": []
    },
    "kernelspec": {
      "name": "python3",
      "display_name": "Python 3"
    }
  },
  "cells": [
    {
      "cell_type": "code",
      "execution_count": 1,
      "metadata": {},
      "outputs": [],
      "source": [
        "import os\n",
        "import json\n",
        "import pandas as pd\n",
        "\n",
        "students = (\n",
        "  'dantas.anna',\n",
        "  'djalde.gomes',\n",
        "  'joab.ferreira',\n",
        "  'hermano.araujo',\n",
        "  'macaiba.laura',\n",
        "  'leandro.batista',\n",
        "  'pedro.romano',\n",
        "  'noronha.rafael',\n",
        "  'roberto.souza',\n",
        "  'robson.nascimento'\n",
        ")\n",
        "categories = ('back-end', 'front-end')\n",
        "status = {}\n",
        "\n",
        "for student in students:\n",
        "  status[student] = {}\n",
        "  for category in categories:\n",
        "    subcategories = os.listdir(category)\n",
        "    for subcategory in subcategories:\n",
        "      path = f'{category}/{subcategory}'\n",
        "      problems = os.listdir(path)\n",
        "      for problem in problems:\n",
        "        path = f'{category}/{subcategory}/{problem}/{student}'\n",
        "        status[student][f'{category}/{subcategory}/{problem}'] = os.path.isdir(path) or os.path.isfile(f'{path}.php')\n",
        "\n",
        "# print(json.dumps(status, indent=4, sort_keys=True))\n",
        "df = pd.DataFrame(status)\n",
        "# print(df)"
      ]
    },
    {
      "cell_type": "code",
      "execution_count": 2,
      "metadata": {},
      "outputs": [
        {
          "data": {
            "text/plain": "djalde.gomes         18\nleandro.batista      14\nnoronha.rafael       12\nrobson.nascimento    11\nroberto.souza        11\npedro.romano          7\nmacaiba.laura         0\nhermano.araujo        0\njoab.ferreira         0\ndantas.anna           0\ndtype: int64"
          },
          "execution_count": 2,
          "metadata": {},
          "output_type": "execute_result"
        }
      ],
      "source": [
        "df[df==True].count(axis=0).sort_values(ascending=False)"
      ]
    },
    {
      "cell_type": "code",
      "execution_count": 3,
      "metadata": {},
      "outputs": [
        {
          "data": {
            "text/plain": "back-end/php-app/ping-app                 1\nback-end/php-app/ps-api                   1\nback-end/php-app/top-api                  1\nback-end/php-app/ping-api                 1\nback-end/php-web/simple-form              1\nback-end/php-app/ps-app                   1\nback-end/php-app/top-app                  1\nfront-end/structure/man-ping              2\nfront-end/structure/first-web-page        2\nfront-end/logic/bs-corretora              3\nfront-end/style/curriculum-text           3\nfront-end/style/text-simple               3\nback-end/php-web/ping                     4\nfront-end/logic/flag-game                 4\nback-end/php-core/basic-numbers-series    5\nback-end/php-core/calc                    5\nback-end/php-core/area-of-circle          5\nback-end/php-core/basic-bmi               6\nback-end/php-web/get-hello-fetch          6\nback-end/php-web/get-hello                6\nback-end/php-web/post-hello               6\nback-end/php-web/post-hello-fetch         6\ndtype: int64"
          },
          "execution_count": 3,
          "metadata": {},
          "output_type": "execute_result"
        }
      ],
      "source": [
        "df[df==True].count(axis=1).sort_values(ascending=True)"
      ]
    },
    {
      "cell_type": "code",
      "execution_count": 4,
      "metadata": {},
      "outputs": [
        {
          "name": "stdout",
          "output_type": "stream",
          "text": "73\n"
        }
      ],
      "source": [
        "print(df[df==True].count().sum())"
      ]
    }
  ]
}